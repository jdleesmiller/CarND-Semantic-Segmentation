{
 "cells": [
  {
   "cell_type": "code",
   "execution_count": 1,
   "metadata": {
    "collapsed": true
   },
   "outputs": [],
   "source": [
    "%load_ext autoreload\n",
    "%autoreload 2\n",
    "%matplotlib inline"
   ]
  },
  {
   "cell_type": "code",
   "execution_count": 2,
   "metadata": {
    "collapsed": false
   },
   "outputs": [],
   "source": [
    "import itertools\n",
    "import os\n",
    "import tensorflow as tf"
   ]
  },
  {
   "cell_type": "code",
   "execution_count": 3,
   "metadata": {
    "collapsed": true
   },
   "outputs": [],
   "source": [
    "import helper"
   ]
  },
  {
   "cell_type": "code",
   "execution_count": 22,
   "metadata": {
    "collapsed": true
   },
   "outputs": [],
   "source": [
    "from project_tests import _assert_tensor_shape"
   ]
  },
  {
   "cell_type": "code",
   "execution_count": 4,
   "metadata": {
    "collapsed": false
   },
   "outputs": [
    {
     "name": "stdout",
     "output_type": "stream",
     "text": [
      "TensorFlow Version: 1.2.1\n",
      "Tests Passed\n",
      "(?, ?, ?, 256)\n",
      "(?, ?, ?, 512)\n",
      "(?, ?, ?, 4096)\n",
      "Tests Passed\n",
      "Tests Passed"
     ]
    },
    {
     "name": "stderr",
     "output_type": "stream",
     "text": [
      "/Users/john/carnd/CarND-Semantic-Segmentation/main.py:15: UserWarning: No GPU found. Please use a GPU to train your neural network.\n",
      "  warnings.warn('No GPU found. Please use a GPU to train your neural network.')\n"
     ]
    }
   ],
   "source": [
    "from main import *"
   ]
  },
  {
   "cell_type": "markdown",
   "metadata": {},
   "source": [
    "### Layer Shapes\n",
    "\n",
    "Find out what shapes the VGG layers are and make sure that we get something the same size back."
   ]
  },
  {
   "cell_type": "code",
   "execution_count": 5,
   "metadata": {
    "collapsed": false
   },
   "outputs": [],
   "source": [
    "DATA_DIR = './data'\n",
    "VGG_PATH = os.path.join(DATA_DIR, 'vgg')\n",
    "IMAGE_SHAPE = (160, 576)\n",
    "get_batches_fn = helper.gen_batch_function(os.path.join(DATA_DIR, 'data_road/training'), IMAGE_SHAPE)"
   ]
  },
  {
   "cell_type": "code",
   "execution_count": 6,
   "metadata": {
    "collapsed": false
   },
   "outputs": [],
   "source": [
    "test_input, test_label = [image for image in itertools.islice(get_batches_fn(1), 1)][0]"
   ]
  },
  {
   "cell_type": "code",
   "execution_count": 7,
   "metadata": {
    "collapsed": false
   },
   "outputs": [
    {
     "data": {
      "text/plain": [
       "(1, 160, 576, 3)"
      ]
     },
     "execution_count": 7,
     "metadata": {},
     "output_type": "execute_result"
    }
   ],
   "source": [
    "test_input.shape"
   ]
  },
  {
   "cell_type": "code",
   "execution_count": 8,
   "metadata": {
    "collapsed": true
   },
   "outputs": [],
   "source": [
    "SESS = tf.InteractiveSession()"
   ]
  },
  {
   "cell_type": "code",
   "execution_count": 9,
   "metadata": {
    "collapsed": false
   },
   "outputs": [],
   "source": [
    "image_input, keep_prob, vgg_layer3_out, vgg_layer4_out, vgg_layer7_out = load_vgg(SESS, VGG_PATH)"
   ]
  },
  {
   "cell_type": "code",
   "execution_count": 11,
   "metadata": {
    "collapsed": false
   },
   "outputs": [
    {
     "data": {
      "text/plain": [
       "[array([  1,  20,  72, 256], dtype=int32),\n",
       " array([  1,  10,  36, 512], dtype=int32),\n",
       " array([   1,    5,   18, 4096], dtype=int32)]"
      ]
     },
     "execution_count": 11,
     "metadata": {},
     "output_type": "execute_result"
    }
   ],
   "source": [
    "vgg_layer3_shape = tf.shape(vgg_layer3_out)\n",
    "vgg_layer4_shape = tf.shape(vgg_layer4_out)\n",
    "vgg_layer7_shape = tf.shape(vgg_layer7_out)\n",
    "\n",
    "SESS.run([vgg_layer3_shape, vgg_layer4_shape, vgg_layer7_shape], {\n",
    "    image_input: test_input.astype('float32'),\n",
    "    keep_prob: 1.0\n",
    "})"
   ]
  },
  {
   "cell_type": "code",
   "execution_count": 28,
   "metadata": {
    "collapsed": false
   },
   "outputs": [
    {
     "name": "stderr",
     "output_type": "stream",
     "text": [
      "/Users/john/carnd/CarND-Semantic-Segmentation/main.py:15: UserWarning: No GPU found. Please use a GPU to train your neural network.\n",
      "  warnings.warn('No GPU found. Please use a GPU to train your neural network.')\n"
     ]
    }
   ],
   "source": [
    "def test_layer_shape():\n",
    "    num_classes = 2\n",
    "    vgg_layer3_out = tf.placeholder(tf.float32, [1, 20, 72, 256])\n",
    "    vgg_layer4_out = tf.placeholder(tf.float32, [1, 10, 36, 512])\n",
    "    vgg_layer7_out = tf.placeholder(tf.float32, [1, 5, 18, 4096])\n",
    "    layers_output = layers(vgg_layer3_out, vgg_layer4_out, vgg_layer7_out, num_classes)\n",
    "    _assert_tensor_shape(layers_output, (1, 160, 576, 2), 'Layers Output')\n",
    "test_layer_shape()"
   ]
  },
  {
   "cell_type": "code",
   "execution_count": null,
   "metadata": {
    "collapsed": true
   },
   "outputs": [],
   "source": [
    "SESS.close()"
   ]
  }
 ],
 "metadata": {
  "kernelspec": {
   "display_name": "Python 3",
   "language": "python",
   "name": "python3"
  },
  "language_info": {
   "codemirror_mode": {
    "name": "ipython",
    "version": 3
   },
   "file_extension": ".py",
   "mimetype": "text/x-python",
   "name": "python",
   "nbconvert_exporter": "python",
   "pygments_lexer": "ipython3",
   "version": "3.5.2"
  }
 },
 "nbformat": 4,
 "nbformat_minor": 2
}
